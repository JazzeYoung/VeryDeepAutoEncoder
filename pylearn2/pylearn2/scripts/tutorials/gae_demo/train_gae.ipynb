{
 "worksheets": [
  {
   "cells": [
    {
     "cell_type": "code",
     "metadata": {},
     "outputs": [],
     "input": [
      "import theano\n",
      "print theano.config.device"
     ],
     "language": "python"
    },
    {
     "cell_type": "code",
     "metadata": {},
     "outputs": [],
     "input": [
      "import os\n",
      "import numpy\n",
      "import pylearn2\n",
      "from pylearn2.utils import serial\n",
      "from pylearn2.utils import sharedX\n",
      "\n",
      "dataset = 'random'\n",
      "transformation = 'shifts'\n",
      "region = 13\n",
      "channels = 1\n",
      "batch_size = 100\n",
      "\n",
      "params = {'save_path': '.',\n",
      "          'region': 13,\n",
      "          'nvisX': region*region*channels,\n",
      "          'nvisY': region*region*channels,\n",
      "          'max_epochs': 150,\n",
      "          'batch_size': batch_size,\n",
      "          'train_data': 'train_preprocessed.pkl',\n",
      "          'nfac': 169,\n",
      "          'nmap': 50,\n",
      "          'lr': 0.01}\n",
      "\n",
      "with open(os.path.join('.', 'gae_random.yaml'), 'r') as f:\n",
      "    train = f.read()\n",
      "train = train %params\n",
      "print train"
     ],
     "language": "python"
    },
    {
     "cell_type": "code",
     "metadata": {},
     "outputs": [],
     "input": [
      "from pylearn2.config import yaml_parse\n",
      "train = yaml_parse.load(train)\n",
      "train.main_loop()"
     ],
     "language": "python"
    },
    {
     "cell_type": "code",
     "metadata": {},
     "outputs": [],
     "input": [
      ""
     ],
     "language": "python"
    }
   ]
  }
 ],
 "cells": [],
 "metadata": {
  "name": "",
  "signature": "sha256:13f8762d63716df7f33fcaa53b0ce039d7d4dd43f1cc3740377bc85e123419ec"
 },
 "nbformat": 3,
 "nbformat_minor": 0
}

